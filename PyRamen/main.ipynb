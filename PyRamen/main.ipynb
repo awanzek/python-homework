{
 "cells": [
  {
   "cell_type": "code",
   "execution_count": 2,
   "metadata": {},
   "outputs": [],
   "source": [
    "#read in csv file from file path\n",
    "#HW2 Python PyRamen \n",
    "#This script will analyze menu and sales data\n",
    "#data set menu_data.csv is provided \n",
    "#Read and pull in menu_data.csv file\n",
    "from pathlib import Path\n",
    "import csv\n",
    "csvpath=Path(\"./menu_data.csv\") #get menu_data.csv that's stored in PyRamen folder of python-homework\n",
    "#initialize menu data\n",
    "menu=[] #menu will be a list of lists where each list holds the data in 1 row of the csv file\n",
    "line_num=0"
   ]
  },
  {
   "cell_type": "code",
   "execution_count": 3,
   "metadata": {},
   "outputs": [],
   "source": [
    "#open csv file to read through\n",
    "with open(csvpath,\"r\") as csvfile:\n",
    "    csvreader=csv.reader(csvfile,delimiter=\",\")\n",
    "    headmenu=next(csvreader)\n",
    "#loop through the csv file to create lists containing the menu items       \n",
    "    for row in csvreader:\n",
    "        menu_item=(row)\n",
    "        menu.append(menu_item)\n",
    "#menu lists of lists has been created   "
   ]
  },
  {
   "cell_type": "code",
   "execution_count": 4,
   "metadata": {},
   "outputs": [],
   "source": [
    "#data set sales_data.csv is provided \n",
    "#Read and pull in sales_data.csv file\n",
    "from pathlib import Path\n",
    "import csv\n",
    "csvpath=Path(\"./sales_data.csv\") #get sales_data.csv that's stored in PyRamen folder of python-homework\n",
    "#initialize sales list object\n",
    "sales=[] #sales list will hold each row of sales data as a list in the list\n",
    "line_num=0"
   ]
  },
  {
   "cell_type": "code",
   "execution_count": 5,
   "metadata": {},
   "outputs": [],
   "source": [
    "#open sales csv file to read through\n",
    "with open(csvpath,\"r\") as csvfile:\n",
    "    csvreader=csv.reader(csvfile,delimiter=\",\")\n",
    "    headsales=next(csvreader)\n",
    "#loop through the csv file to create lists containing the sale data items       \n",
    "    for row in csvreader:\n",
    "        sales_data=(row)\n",
    "        sales.append(sales_data)\n",
    "#sales data lists of lists has been created\n"
   ]
  },
  {
   "cell_type": "code",
   "execution_count": 6,
   "metadata": {},
   "outputs": [],
   "source": [
    "#initialize a report dictionary to hold per-product results\n",
    "report={}\n",
    "#report contains\n",
    "#01-count:total quantity for each ramen type\n",
    "#02-revenue:total revenue for each ramen type\n",
    "#03-cogs:total cost of goods sold for each ramen type\n",
    "#04-profit:total profit for each ramen type\n",
    "\n",
    "#set quantity and menu item variables\n",
    "quantity=[]\n",
    "menu_item=[]\n",
    "item_list=[]\n",
    "price_list=[]\n",
    "cost_list=[]\n",
    "#to find this we need to loop through the sales list\n",
    "index_quantity=headsales.index(\"Quantity\")\n",
    "index_menu_item=headsales.index(\"Menu_Item\")\n",
    "#use for loop to get the menu item and quantity of menu item in lists\n",
    "for row in sales:\n",
    "    quantity_amount=row[index_quantity]\n",
    "    quantity.append(quantity_amount)\n",
    "    sales_item=row[index_menu_item]\n",
    "    menu_item.append(sales_item)\n",
    "    if sales_item not in report:\n",
    "        report.update({sales_item:{\n",
    "            \"01-count\":0,\n",
    "            \"02-revenue\":0,\n",
    "            \"03-cogs\":0,\n",
    "            \"04-profit\":0,\n",
    "        }})\n",
    "    elif sales_item in report:\n",
    "         report=report\n",
    "    for row in menu:\n",
    "        index_item=headmenu.index(\"item\")\n",
    "        index_price=headmenu.index(\"price\")\n",
    "        index_cost=headmenu.index(\"cost\")\n",
    "        item=row[index_item]\n",
    "        item_list.append(item)\n",
    "        prices=row[index_price]\n",
    "        price_list.append(prices)\n",
    "        costs=row[index_cost]\n",
    "        cost_list.append(costs)\n",
    "    for product in menu: \n",
    "        if sales_item==product:\n",
    "            count=quantity[index]\n",
    "            price=price_list[index]\n",
    "            cost=cost_list[index]\n",
    "            profit=price-cost\n",
    "            count=quantity\n",
    "            revenue=price*quantity\n",
    "            cogs=cost*quantity\n",
    "            profit=profit*quantity\n"
   ]
  },
  {
   "cell_type": "code",
   "execution_count": null,
   "metadata": {},
   "outputs": [],
   "source": [
    "#nested loop to go through all menu items\n"
   ]
  },
  {
   "cell_type": "code",
   "execution_count": null,
   "metadata": {},
   "outputs": [],
   "source": []
  }
 ],
 "metadata": {
  "kernelspec": {
   "display_name": "Python 3",
   "language": "python",
   "name": "python3"
  },
  "language_info": {
   "codemirror_mode": {
    "name": "ipython",
    "version": 3
   },
   "file_extension": ".py",
   "mimetype": "text/x-python",
   "name": "python",
   "nbconvert_exporter": "python",
   "pygments_lexer": "ipython3",
   "version": "3.7.4"
  }
 },
 "nbformat": 4,
 "nbformat_minor": 4
}
