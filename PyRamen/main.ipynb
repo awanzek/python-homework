{
 "cells": [
  {
   "cell_type": "code",
   "execution_count": 2,
   "metadata": {},
   "outputs": [],
   "source": [
    "#read in csv file from file path\n",
    "#HW2 Python PyRamen \n",
    "#This script will analyze menu and sales data\n",
    "#data set menu_data.csv is provided \n",
    "#Read and pull in menu_data.csv file\n",
    "from pathlib import Path\n",
    "import csv\n",
    "csvpath=Path(\"./menu_data.csv\") #get menu_data.csv that's stored in PyRamen folder of python-homework\n",
    "#initialize menu data\n",
    "menu=[] #menu will be a list of lists where each list holds the data in 1 row of the csv file\n",
    "line_num=0"
   ]
  },
  {
   "cell_type": "code",
   "execution_count": 3,
   "metadata": {},
   "outputs": [],
   "source": [
    "#open csv file to read through\n",
    "with open(csvpath,\"r\") as csvfile:\n",
    "    csvreader=csv.reader(csvfile,delimiter=\",\")\n",
    "    headmenu=next(csvreader)\n",
    "#loop through the csv file to create lists containing the menu items       \n",
    "    for row in csvreader:\n",
    "        menu_item=(row)\n",
    "        menu.append(menu_item)\n",
    "#menu lists of lists has been created   "
   ]
  },
  {
   "cell_type": "code",
   "execution_count": 4,
   "metadata": {},
   "outputs": [],
   "source": [
    "#data set sales_data.csv is provided \n",
    "#Read and pull in sales_data.csv file\n",
    "from pathlib import Path\n",
    "import csv\n",
    "csvpath=Path(\"./sales_data.csv\") #get sales_data.csv that's stored in PyRamen folder of python-homework\n",
    "#initialize sales list object\n",
    "sales=[] #sales list will hold each row of sales data as a list in the list\n",
    "line_num=0"
   ]
  },
  {
   "cell_type": "code",
   "execution_count": 5,
   "metadata": {},
   "outputs": [],
   "source": [
    "#open sales csv file to read through\n",
    "with open(csvpath,\"r\") as csvfile:\n",
    "    csvreader=csv.reader(csvfile,delimiter=\",\")\n",
    "    headsales=next(csvreader)\n",
    "#loop through the csv file to create lists containing the sale data items       \n",
    "    for row in csvreader:\n",
    "        sales_data=(row)\n",
    "        sales.append(sales_data)\n",
    "#sales data lists of lists has been created\n"
   ]
  },
  {
   "cell_type": "code",
   "execution_count": 20,
   "metadata": {},
   "outputs": [
    {
     "name": "stdout",
     "output_type": "stream",
     "text": [
      "{'spicy miso ramen': {'01-count': 9238, '02-revenue': 36952.0, '03-cogs': 18476.0, '04-profit': 18476.0}, 'tori paitan ramen': {'01-count': 9156, '02-revenue': 36624.0, '03-cogs': 18312.0, '04-profit': 18312.0}, 'truffle butter ramen': {'01-count': 8982, '02-revenue': 35928.0, '03-cogs': 17964.0, '04-profit': 17964.0}, 'tonkotsu ramen': {'01-count': 9288, '02-revenue': 37152.0, '03-cogs': 18576.0, '04-profit': 18576.0}, 'vegetarian spicy miso': {'01-count': 9216, '02-revenue': 36864.0, '03-cogs': 18432.0, '04-profit': 18432.0}, 'shio ramen': {'01-count': 9180, '02-revenue': 36720.0, '03-cogs': 18360.0, '04-profit': 18360.0}, 'miso crab ramen': {'01-count': 8890, '02-revenue': 35560.0, '03-cogs': 17780.0, '04-profit': 17780.0}, 'nagomi shoyu': {'01-count': 9132, '02-revenue': 36528.0, '03-cogs': 18264.0, '04-profit': 18264.0}, 'soft-shell miso crab ramen': {'01-count': 9130, '02-revenue': 36520.0, '03-cogs': 18260.0, '04-profit': 18260.0}, 'burnt garlic tonkotsu ramen': {'01-count': 9070, '02-revenue': 36280.0, '03-cogs': 18140.0, '04-profit': 18140.0}, 'vegetarian curry + king trumpet mushroom ramen': {'01-count': 8824, '02-revenue': 35296.0, '03-cogs': 17648.0, '04-profit': 17648.0}}\n"
     ]
    }
   ],
   "source": [
    "#initialize a report dictionary to hold per-product results\n",
    "report={}\n",
    "#report contains\n",
    "#01-count:total quantity for each ramen type\n",
    "#02-revenue:total revenue for each ramen type\n",
    "#03-cogs:total cost of goods sold for each ramen type\n",
    "#04-profit:total profit for each ramen type\n",
    "\n",
    "#set quantity and menu item variables\n",
    "quantity=[]\n",
    "menu_item=[]\n",
    "item_list=[]\n",
    "price_list=[]\n",
    "cost_list=[]\n",
    "#to find this we need to loop through the sales list\n",
    "index_quantity=headsales.index(\"Quantity\")\n",
    "index_menu_item=headsales.index(\"Menu_Item\")\n",
    "#use for loop to get the menu item and quantity of menu item in lists\n",
    "for row in sales:\n",
    "    quantity=row[index_quantity]\n",
    "    sales_item=row[index_menu_item]\n",
    "    menu_item.append(sales_item)\n",
    "    if sales_item not in report:\n",
    "        report.update({sales_item:{\n",
    "            \"01-count\":0,\n",
    "            \"02-revenue\":0,\n",
    "            \"03-cogs\":0,\n",
    "            \"04-profit\":0,\n",
    "        }})\n",
    "      \n",
    "     #nested loop to go through all menu items \n",
    "    count=1\n",
    "    for row in menu:\n",
    "        index_item=headmenu.index(\"item\")\n",
    "        index_price=headmenu.index(\"price\")\n",
    "        index_cost=headmenu.index(\"cost\")\n",
    "        prices=row[index_price]\n",
    "        price_list.append(prices)\n",
    "        costs=row[index_cost]\n",
    "        cost_list.append(costs)\n",
    "        item=row[index_item]\n",
    "    #check if the item in the current row in menu_data.csv\n",
    "    #is the same as the sales item in the sales_data.csv row      \n",
    "        if sales_item==item:\n",
    "            profit=float(price_list[count])-float(cost_list[count])\n",
    "            report[sales_item][\"01-count\"]+=int(quantity)\n",
    "            report[sales_item][\"02-revenue\"]+=(float(price_list[count])*int(quantity))\n",
    "            report[sales_item][\"03-cogs\"]+=(float(cost_list[count])*int(quantity))\n",
    "            report[sales_item][\"04-profit\"]+=(profit*int(quantity))\n",
    "            count=count+1\n",
    "        #else \n",
    "         #   print(f\"{sales_item} does not equal {item}! No Match!\")\n",
    "print(report)"
   ]
  },
  {
   "cell_type": "code",
   "execution_count": 28,
   "metadata": {},
   "outputs": [
    {
     "name": "stdout",
     "output_type": "stream",
     "text": [
      "['spicy miso ramen', 'tori paitan ramen', 'truffle butter ramen', 'tonkotsu ramen', 'vegetarian spicy miso', 'shio ramen', 'miso crab ramen', 'nagomi shoyu', 'soft-shell miso crab ramen', 'burnt garlic tonkotsu ramen', 'vegetarian curry + king trumpet mushroom ramen']\n"
     ]
    }
   ],
   "source": [
    "#Export Text File with Report Dictionary\n",
    "fieldnames=[]\n",
    "for key in report:\n",
    "    fieldname=key\n",
    "    fieldnames.append(fieldname)\n",
    "print(fieldnames)\n",
    "#Write and push in output.txt file\n",
    "with open(\"./ouput.txt\",\"w\") as csvout:\n",
    "    csvwriter=csv.DictWriter(csvout,fieldnames=fieldnames)\n",
    "    for key in report:\n",
    "    csvwriter.writerow #print each dictionary and values\n",
    "        \n"
   ]
  },
  {
   "cell_type": "code",
   "execution_count": null,
   "metadata": {},
   "outputs": [],
   "source": []
  }
 ],
 "metadata": {
  "kernelspec": {
   "display_name": "Python 3",
   "language": "python",
   "name": "python3"
  },
  "language_info": {
   "codemirror_mode": {
    "name": "ipython",
    "version": 3
   },
   "file_extension": ".py",
   "mimetype": "text/x-python",
   "name": "python",
   "nbconvert_exporter": "python",
   "pygments_lexer": "ipython3",
   "version": "3.7.4"
  }
 },
 "nbformat": 4,
 "nbformat_minor": 4
}
