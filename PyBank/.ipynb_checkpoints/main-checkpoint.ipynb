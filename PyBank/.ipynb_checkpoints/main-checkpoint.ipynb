{
 "cells": [
  {
   "cell_type": "code",
   "execution_count": 1,
   "metadata": {},
   "outputs": [],
   "source": [
    "#HW2 Python PyBank \n",
    "#This script will analyze financial records of company\n",
    "#Financial Data Set budget_data.csv is provide with date and profit/loss value\n",
    "#Read and pull in budget_data.csv file\n",
    "from pathlib import Path\n",
    "import csv\n",
    "csvpath=Path(\"./budget_data.csv\") #get budget_data.csv that's stored in PyBank folder of python-homework\n",
    "#initialize dates and profit/loss lists\n",
    "dates=[]\n",
    "profits_losses=[]\n",
    "line_num=0"
   ]
  },
  {
   "cell_type": "code",
   "execution_count": 2,
   "metadata": {},
   "outputs": [],
   "source": [
    "with open(csvpath,\"r\") as csvfile:\n",
    "    csvreader=csv.reader(csvfile,delimiter=\",\")\n",
    "    head=next(csvreader)\n",
    "#loop through the csv file to create lists containing the dates and profit/loss values    \n",
    "    for row in csvreader:\n",
    "        date=(row[0])\n",
    "        dates.append(date)\n",
    "        profit_loss=int(row[1])\n",
    "        profits_losses.append(profit_loss)"
   ]
  },
  {
   "cell_type": "code",
   "execution_count": 3,
   "metadata": {},
   "outputs": [
    {
     "name": "stdout",
     "output_type": "stream",
     "text": [
      "Total Months:86\n"
     ]
    }
   ],
   "source": [
    "#Calculate Total Number of Months Included in the Dataset\n",
    "#This will be total number of data entries in dates list-length of dates list\n",
    "months=(len(dates))\n",
    "print(f\"Total Months:{months}\")\n",
    "#define data variable for list of output results\n",
    "data1=(f\"Total Months:{months}\")"
   ]
  },
  {
   "cell_type": "code",
   "execution_count": 4,
   "metadata": {},
   "outputs": [
    {
     "name": "stdout",
     "output_type": "stream",
     "text": [
      "Net Total Profit/Loss: $38382578\n"
     ]
    }
   ],
   "source": [
    "#Calculate the Net Total Amount of Profit/Losses over the Whole Time Period\n",
    "#Add all profits and losses for the net total profit/loss of data set\n",
    "net_total=sum(profits_losses)\n",
    "print(f\"Net Total Profit/Loss: ${net_total}\")\n",
    "#define data variable for list of output results\n",
    "data2=(f\"Net Total Profit/Loss: ${net_total}\")"
   ]
  },
  {
   "cell_type": "code",
   "execution_count": 5,
   "metadata": {},
   "outputs": [
    {
     "name": "stdout",
     "output_type": "stream",
     "text": [
      "Average Change: $-2315.12\n",
      "Greatest Increase in Profits: Feb-2012 ($1926159)\n",
      "Greatest Decrease in Profits: Sep-2013 ($-2196167)\n"
     ]
    }
   ],
   "source": [
    "#Calculate the Average of the Changes in Profit/Loss over the Whole Time Period\n",
    "#The average of the changes in profit losses will be the total of all the changes divided by the total number of months\n",
    "#loop to get list of all monthly changes, then divide by total number of changes\n",
    "#normalize count value and changes list, and dates of changes list\n",
    "#normalize max/min index to find the count value when max and min is determined\n",
    "#normalize greatest increase and greatest decrease to keep track of the highest and lowest values of changes in data\n",
    "\n",
    "count=0\n",
    "max_change_index=0\n",
    "min_change_index=0\n",
    "greatest_increase_profit=0\n",
    "greatest_decrease_loss=0\n",
    "changes=[]\n",
    "dates_changes=[]\n",
    "\n",
    "for value in profits_losses:\n",
    "    if count<(len(profits_losses)-1): #need count to stay in range of profits/losses to get difference of next month-current month\n",
    "        change_value=profits_losses[count+1]-profits_losses[count]\n",
    "        date_change=dates[count+1]\n",
    "        #The Greatest Increase in Profits (Date & Amount) over the Time Period\n",
    "        if change_value>=greatest_increase_profit:\n",
    "            greatest_increase_profit=change_value\n",
    "            max_change_index=count\n",
    "        #Calculate The Greatest Decrease in Losses (Date & Amount) over the Time Period\n",
    "        elif change_value<=greatest_decrease_loss:\n",
    "            greatest_decrease_loss=change_value\n",
    "            min_change_index=count\n",
    "        count=count+1\n",
    "        changes.append(change_value) #place the difference in a list of the difference between each of the months\n",
    "        dates_changes.append(date_change) #get list of date/month at which change was recorded\n",
    "    elif count==len(profits_losses): #need this conidtion for the case when the count hits the total number of months of data available to stop the loop and stop adding to changes.\n",
    "        change_value=0\n",
    "        date_change=0\n",
    "        count=count+1\n",
    "        \n",
    "#calculate month/date corresponding to max and min change values\n",
    "max_date=dates_changes[max_change_index]\n",
    "min_date=dates_changes[min_change_index]\n",
    "\n",
    "#average changes is sum of changes over total amount of change values in the list \n",
    "changes_average=round(((sum(changes)/len(changes))),2)\n",
    "print(f\"Average Change: ${changes_average}\")\n",
    "#define data variable for list of output results\n",
    "data3=(f\"Average Change: ${changes_average}\")                \n",
    "#print the greatest increase date/value and the greatest decrease date/value\n",
    "print(f\"Greatest Increase in Profits: {max_date} (${greatest_increase_profit})\")\n",
    "print(f\"Greatest Decrease in Profits: {min_date} (${greatest_decrease_loss})\")\n",
    "#define data variable for list of output results\n",
    "data4=(f\"Greatest Increase in Profits: {max_date} (${greatest_increase_profit})\")\n",
    "data5=(f\"Greatest Decrease in Profits: {min_date} (${greatest_decrease_loss})\")"
   ]
  },
  {
   "cell_type": "code",
   "execution_count": 6,
   "metadata": {},
   "outputs": [],
   "source": [
    "#Export Text File with Results\n",
    "#define list of data from calculation results\n",
    "results_data=[data1, data2, data3, data4, data5]\n",
    "\n",
    "#Write and push in results.txt file\n",
    "with open(\"./results.txt\",\"w\") as csvout:\n",
    "    csvwriter=csv.writer(csvout)\n",
    "    for row in results_data:\n",
    "        csvout.write(f\"{row}\\n\") #print each data value in results_data in a new row/line of file\n"
   ]
  },
  {
   "cell_type": "code",
   "execution_count": 45,
   "metadata": {},
   "outputs": [],
   "source": []
  },
  {
   "cell_type": "code",
   "execution_count": null,
   "metadata": {},
   "outputs": [],
   "source": []
  },
  {
   "cell_type": "code",
   "execution_count": null,
   "metadata": {},
   "outputs": [],
   "source": []
  }
 ],
 "metadata": {
  "kernelspec": {
   "display_name": "Python 3",
   "language": "python",
   "name": "python3"
  },
  "language_info": {
   "codemirror_mode": {
    "name": "ipython",
    "version": 3
   },
   "file_extension": ".py",
   "mimetype": "text/x-python",
   "name": "python",
   "nbconvert_exporter": "python",
   "pygments_lexer": "ipython3",
   "version": "3.7.4"
  }
 },
 "nbformat": 4,
 "nbformat_minor": 4
}
