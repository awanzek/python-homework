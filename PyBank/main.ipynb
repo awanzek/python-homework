{
 "cells": [
  {
   "cell_type": "code",
   "execution_count": 34,
   "metadata": {},
   "outputs": [],
   "source": [
    "#HW2 Python PyBank \n",
    "#This script will analyze financial records of company\n",
    "#Financial Data Set budget_data.csv is provide with date and profit/loss value\n",
    "#Read and pull in budget_data.csv file\n",
    "from pathlib import Path\n",
    "import csv\n",
    "csvpath=Path(\"./budget_data.csv\") #get budget_data.csv that's stored in PyBank folder of python-homework\n",
    "#initialize dates and profit/loss lists\n",
    "dates=[]\n",
    "profits_losses=[]\n",
    "line_num=0"
   ]
  },
  {
   "cell_type": "code",
   "execution_count": 35,
   "metadata": {},
   "outputs": [],
   "source": [
    "with open(csvpath,\"r\") as csvfile:\n",
    "    csvreader=csv.reader(csvfile,delimiter=\",\")\n",
    "    head=next(csvreader)\n",
    "#loop through the csv file to create lists containing the dates and profit/loss values    \n",
    "    for row in csvreader:\n",
    "        date=(row[0])\n",
    "        dates.append(date)\n",
    "        profit_loss=int(row[1])\n",
    "        profits_losses.append(profit_loss)"
   ]
  },
  {
   "cell_type": "code",
   "execution_count": 36,
   "metadata": {},
   "outputs": [
    {
     "name": "stdout",
     "output_type": "stream",
     "text": [
      "Total Months:86\n"
     ]
    }
   ],
   "source": [
    "#Calculate Total Number of Months Included in the Dataset\n",
    "#This will be total number of data entries in dates list-length of dates list\n",
    "months=(len(dates))\n",
    "print(f\"Total Months:{months}\")"
   ]
  },
  {
   "cell_type": "code",
   "execution_count": 65,
   "metadata": {},
   "outputs": [
    {
     "name": "stdout",
     "output_type": "stream",
     "text": [
      "Net Total Profit/Loss: $38382578\n"
     ]
    }
   ],
   "source": [
    "#Calculate the Net Total Amount of Profit/Losses over the Whole Time Period\n",
    "#Add all profits and losses for the net total profit/loss of data set\n",
    "net_total=sum(profits_losses)\n",
    "print(f\"Net Total Profit/Loss: ${net_total}\")"
   ]
  },
  {
   "cell_type": "code",
   "execution_count": 76,
   "metadata": {},
   "outputs": [
    {
     "name": "stdout",
     "output_type": "stream",
     "text": [
      "Average Change: $-2315.1176470588234\n"
     ]
    }
   ],
   "source": [
    "#Calculate the Average of the Changes in Profit/Loss over the Whole Time Period\n",
    "#The average of the changes in profit losses will be the total of all the changes divided by the total number of months\n",
    "#loop to get list of all monthly changes, then divide by total number of changes\n",
    "#normalize count value and changes list, and dates of changes list\n",
    "count=0\n",
    "changes=[]\n",
    "dates_changes=[]\n",
    "for value in profits_losses:\n",
    "    if count<(len(profits_losses)-1): #need count to stay in range of profits/losses to get difference of next month-current month\n",
    "        change_value=profits_losses[count+1]-profits_losses[count]\n",
    "        date_change=dates[count+1]\n",
    "        count=count+1\n",
    "        changes.append(change_value) #place the difference in a list of the difference between each of the months\n",
    "        dates_changes.append(date_change) #get list of date/month at which change was recorded\n",
    "    elif count==len(profits_losses): #need this conidtion for the case when the count hits the total number of months of data available to stop the loop and stop adding to changes.\n",
    "        change_value=0\n",
    "        date_change=0\n",
    "        count=count+1\n",
    "        \n",
    "#average changes is sum of changes over total amount of change values in the list \n",
    "changes_average=(sum(changes)/len(changes))\n",
    "print(f\"Average Change: ${changes_average}\")"
   ]
  },
  {
   "cell_type": "code",
   "execution_count": 92,
   "metadata": {},
   "outputs": [
    {
     "name": "stdout",
     "output_type": "stream",
     "text": [
      "1926159\n"
     ]
    },
    {
     "ename": "ValueError",
     "evalue": "1926159 is not in list",
     "output_type": "error",
     "traceback": [
      "\u001b[0;31m---------------------------------------------------------------------------\u001b[0m",
      "\u001b[0;31mValueError\u001b[0m                                Traceback (most recent call last)",
      "\u001b[0;32m<ipython-input-92-086dfc1b9b9b>\u001b[0m in \u001b[0;36m<module>\u001b[0;34m\u001b[0m\n\u001b[1;32m      6\u001b[0m \u001b[0;31m#see above for dates_changes list\u001b[0m\u001b[0;34m\u001b[0m\u001b[0;34m\u001b[0m\u001b[0;34m\u001b[0m\u001b[0m\n\u001b[1;32m      7\u001b[0m \u001b[0;31m#find location of max in changes list\u001b[0m\u001b[0;34m\u001b[0m\u001b[0;34m\u001b[0m\u001b[0;34m\u001b[0m\u001b[0m\n\u001b[0;32m----> 8\u001b[0;31m \u001b[0mindex_max\u001b[0m\u001b[0;34m=\u001b[0m\u001b[0;34m[\u001b[0m\u001b[0mchanges\u001b[0m\u001b[0;34m]\u001b[0m\u001b[0;34m.\u001b[0m\u001b[0mindex\u001b[0m\u001b[0;34m(\u001b[0m\u001b[0mgreatest_increase_profit\u001b[0m\u001b[0;34m)\u001b[0m\u001b[0;34m\u001b[0m\u001b[0;34m\u001b[0m\u001b[0m\n\u001b[0m\u001b[1;32m      9\u001b[0m \u001b[0mdate_max\u001b[0m\u001b[0;34m=\u001b[0m\u001b[0mdates_changes\u001b[0m\u001b[0;34m[\u001b[0m\u001b[0mindex_max\u001b[0m\u001b[0;34m]\u001b[0m\u001b[0;34m\u001b[0m\u001b[0;34m\u001b[0m\u001b[0m\n\u001b[1;32m     10\u001b[0m \u001b[0mprint\u001b[0m\u001b[0;34m(\u001b[0m\u001b[0mindex_max\u001b[0m\u001b[0;34m)\u001b[0m\u001b[0;34m\u001b[0m\u001b[0;34m\u001b[0m\u001b[0m\n",
      "\u001b[0;31mValueError\u001b[0m: 1926159 is not in list"
     ]
    }
   ],
   "source": [
    "#The Greatest Increase in Profits (Date & Amount) over the Time Period\n",
    "#Search for the maximum positive value of changes month  to month over the time period\n",
    "greatest_increase_profit=max(changes)\n",
    "print(greatest_increase_profit)\n",
    "#to get the month add caluclation in for loop above for month\n",
    "#see above for dates_changes list \n",
    "#find location of max in changes list\n",
    "index_max=[changes].index(greatest_increase_profit)\n",
    "date_max=dates_changes[index_max]\n",
    "print(index_max)\n",
    "    "
   ]
  },
  {
   "cell_type": "code",
   "execution_count": 93,
   "metadata": {},
   "outputs": [
    {
     "name": "stdout",
     "output_type": "stream",
     "text": [
      "-2196167\n"
     ]
    },
    {
     "ename": "ValueError",
     "evalue": "-2196167 is not in list",
     "output_type": "error",
     "traceback": [
      "\u001b[0;31m---------------------------------------------------------------------------\u001b[0m",
      "\u001b[0;31mValueError\u001b[0m                                Traceback (most recent call last)",
      "\u001b[0;32m<ipython-input-93-6ef94369a99f>\u001b[0m in \u001b[0;36m<module>\u001b[0;34m\u001b[0m\n\u001b[1;32m      4\u001b[0m \u001b[0mprint\u001b[0m\u001b[0;34m(\u001b[0m\u001b[0mgreatest_decrease_loss\u001b[0m\u001b[0;34m)\u001b[0m\u001b[0;34m\u001b[0m\u001b[0;34m\u001b[0m\u001b[0m\n\u001b[1;32m      5\u001b[0m \u001b[0;34m\u001b[0m\u001b[0m\n\u001b[0;32m----> 6\u001b[0;31m \u001b[0mindex_min\u001b[0m\u001b[0;34m=\u001b[0m\u001b[0;34m[\u001b[0m\u001b[0mchanges\u001b[0m\u001b[0;34m]\u001b[0m\u001b[0;34m.\u001b[0m\u001b[0mindex\u001b[0m\u001b[0;34m(\u001b[0m\u001b[0mgreatest_decrease_loss\u001b[0m\u001b[0;34m)\u001b[0m\u001b[0;34m\u001b[0m\u001b[0;34m\u001b[0m\u001b[0m\n\u001b[0m",
      "\u001b[0;31mValueError\u001b[0m: -2196167 is not in list"
     ]
    }
   ],
   "source": [
    "#Calculate The Greatest Decrease in Losses (Date & Amount) over the Time Period\n",
    "#Search for the maximum negative value (minimum) of changes list for month to month changes over the time period\n",
    "greatest_decrease_loss=min(changes)\n",
    "print(greatest_decrease_loss)\n",
    "\n",
    "index_min=[changes].index(greatest_decrease_loss)"
   ]
  },
  {
   "cell_type": "code",
   "execution_count": null,
   "metadata": {},
   "outputs": [],
   "source": []
  }
 ],
 "metadata": {
  "kernelspec": {
   "display_name": "Python 3",
   "language": "python",
   "name": "python3"
  },
  "language_info": {
   "codemirror_mode": {
    "name": "ipython",
    "version": 3
   },
   "file_extension": ".py",
   "mimetype": "text/x-python",
   "name": "python",
   "nbconvert_exporter": "python",
   "pygments_lexer": "ipython3",
   "version": "3.7.4"
  }
 },
 "nbformat": 4,
 "nbformat_minor": 4
}
